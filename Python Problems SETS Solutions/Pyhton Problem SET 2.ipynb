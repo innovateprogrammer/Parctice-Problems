{
 "cells": [
  {
   "cell_type": "code",
   "execution_count": 9,
   "metadata": {},
   "outputs": [
    {
     "name": "stdout",
     "output_type": "stream",
     "text": [
      "Enter the number  : 8\n",
      "True\n"
     ]
    }
   ],
   "source": [
    "#lab number\n",
    "def check_prime(h):\n",
    "    c=0\n",
    "    for i in range(1,h):\n",
    "        if(h%i==0):\n",
    "            c+=1\n",
    "    if(c==1):\n",
    "        return True\n",
    "    else:\n",
    "        return False\n",
    "\n",
    "n=int(input(\"Enter the number  : \"))\n",
    "f=0\n",
    "for i in range(1,n):\n",
    "    if(n%i==0):\n",
    "        if(check_prime(i)==True):\n",
    "            sq=i*i\n",
    "            if(n%sq==0):\n",
    "                print(\"True\")\n",
    "                f+=1\n",
    "                break\n",
    "if(f==0):\n",
    "    print(\"False\")"
   ]
  },
  {
   "cell_type": "code",
   "execution_count": 15,
   "metadata": {},
   "outputs": [
    {
     "name": "stdout",
     "output_type": "stream",
     "text": [
      "Enter number  : 16\n",
      "3 + 13\n",
      "5 + 11\n"
     ]
    }
   ],
   "source": [
    "#Goldbach\n",
    "def check_prime(h):\n",
    "    c=0\n",
    "    for i in range(1,h):\n",
    "        if(h%i==0):\n",
    "            c+=1\n",
    "    if(c==1):\n",
    "        return True\n",
    "    else:\n",
    "        return False\n",
    "n1=int(input(\"Enter number  : \"))\n",
    "l=[]\n",
    "if(n1%2==0):\n",
    "    for j in range(1,n1):\n",
    "        if(check_prime(j)==True):\n",
    "            if(j not in l):\n",
    "                j1=n1-j\n",
    "                if(check_prime(j1)==True):\n",
    "                    l.append(j)\n",
    "                    l.append(j1)\n",
    "                    print(j,\"+\",j1)\n",
    "else:\n",
    "    print(\"Not an even number\")\n",
    "                "
   ]
  },
  {
   "cell_type": "code",
   "execution_count": 21,
   "metadata": {},
   "outputs": [
    {
     "name": "stdout",
     "output_type": "stream",
     "text": [
      "Enter your eqn  : 2x-3=1\n",
      "x =  2.0\n"
     ]
    }
   ],
   "source": [
    "#linear equation solver\n",
    "lin=input(\"Enter your eqn  : \")\n",
    "f=\"\"\n",
    "l1=[]\n",
    "for s in lin:\n",
    "    if(s==\"x\"):\n",
    "        l1.append(int(f))\n",
    "        f=\"\"\n",
    "    elif(s==\"=\"):\n",
    "        l1.append(int(f))\n",
    "        f=\"\"\n",
    "    else:\n",
    "        f+=s\n",
    "else:\n",
    "    l1.append(int(f))\n",
    "x=(l1[2]-l1[1])/l1[0]\n",
    "print(\"x = \",x)"
   ]
  },
  {
   "cell_type": "code",
   "execution_count": 59,
   "metadata": {},
   "outputs": [
    {
     "name": "stdout",
     "output_type": "stream",
     "text": [
      "Enter co-ordinates(3,3)(0,0)\n",
      "4.24\n"
     ]
    }
   ],
   "source": [
    "#calculate distance\n",
    "import math\n",
    "st=input(\"Enter co-ordinates\")\n",
    "l=[]\n",
    "l1=[]\n",
    "d=\"\"\n",
    "for i in st:\n",
    "    if(i==\"(\"):\n",
    "        continue\n",
    "    elif(i==\",\"):\n",
    "        l1.append(int(d))\n",
    "        d=\"\"\n",
    "    elif(i==\")\"):\n",
    "        l1.append(int(d))\n",
    "        d=\"\"\n",
    "        l.append(l1)\n",
    "        l1=[]\n",
    "    else:\n",
    "        d+=i\n",
    "exp1=(l[0][0]-l[1][0])**2+(l[0][1]-l[1][1])**2\n",
    "dis=math.sqrt(exp1)\n",
    "dis=format(dis,\".2f\")\n",
    "print(dis)"
   ]
  },
  {
   "cell_type": "code",
   "execution_count": 55,
   "metadata": {},
   "outputs": [
    {
     "name": "stdout",
     "output_type": "stream",
     "text": [
      "Enter the number : 50\n",
      "True\n"
     ]
    }
   ],
   "source": [
    "#strange root\n",
    "import math\n",
    "n2=int(input(\"Enter the number : \"))\n",
    "sq=str(n2**2)\n",
    "srt=str(format(math.sqrt(n2),\".3f\"))\n",
    "f=0\n",
    "for i in sq:\n",
    "    for j in srt:\n",
    "        if(j==i):\n",
    "            print(\"True\")\n",
    "            f+=1\n",
    "            break\n",
    "    if(f==1):\n",
    "        break\n",
    "if(f==0):\n",
    "    print(\"False\")"
   ]
  },
  {
   "cell_type": "code",
   "execution_count": 39,
   "metadata": {},
   "outputs": [
    {
     "name": "stdout",
     "output_type": "stream",
     "text": [
      "Enter you string : hello\n",
      "prime\n"
     ]
    }
   ],
   "source": [
    "#primestrings\n",
    "st=input(\"Enter you string : \")\n",
    "st1=\"\"\n",
    "c=0\n",
    "for s in st:\n",
    "    st1+=s\n",
    "    if(len(st1)<len(st)):\n",
    "        for i in range(0,10):\n",
    "            if(st1*i==st):\n",
    "                c=c+1\n",
    "                print(\"not prime\")\n",
    "                break\n",
    "    if(c==1):\n",
    "        break\n",
    "if(c==0):\n",
    "    print(\"prime\")"
   ]
  },
  {
   "cell_type": "code",
   "execution_count": 42,
   "metadata": {},
   "outputs": [
    {
     "name": "stdout",
     "output_type": "stream",
     "text": [
      "Enter the number : 2\n",
      "1.2599\n"
     ]
    }
   ],
   "source": [
    "#cube root\n",
    "n=int(input(\"Enter the number : \"))\n",
    "crt=n**(1/3)\n",
    "crt=format(crt,\".4f\")\n",
    "print(crt)"
   ]
  },
  {
   "cell_type": "code",
   "execution_count": 46,
   "metadata": {},
   "outputs": [
    {
     "name": "stdout",
     "output_type": "stream",
     "text": [
      "Enter the exp : 2 4 *2\n",
      "18\n"
     ]
    }
   ],
   "source": [
    "#Summations Calculator\n",
    "def soln(a,b,c):\n",
    "    if(b==\"+\"):\n",
    "        return a+c\n",
    "    elif(b==\"-\"):\n",
    "        return a-c\n",
    "    elif(b==\"%\"):\n",
    "        return a%c\n",
    "    elif(b==\"/\"):\n",
    "        return a/c\n",
    "    elif(b==\"*\"):\n",
    "        return a*c\n",
    "exp=input(\"Enter the exp : \")\n",
    "f=\"\"\n",
    "num=[]\n",
    "for i in exp:\n",
    "    if(i==\" \"):\n",
    "        num.append(int(f))\n",
    "        f=\"\"\n",
    "    elif(i==\"/\" or i==\"*\" or i==\"%\" or i==\"-\" or i==\"+\"):\n",
    "        num.append(i)\n",
    "    else:\n",
    "        f+=i\n",
    "else:\n",
    "    num.append(int(f))\n",
    "s=0\n",
    "for j in range(num[0],num[1]+1):\n",
    "    s+=soln(j,num[2],num[3])\n",
    "print(s)\n",
    "    "
   ]
  },
  {
   "cell_type": "code",
   "execution_count": 45,
   "metadata": {},
   "outputs": [
    {
     "name": "stdout",
     "output_type": "stream",
     "text": [
      "Enter a number : 210\n",
      "False\n"
     ]
    }
   ],
   "source": [
    "#gapful numbers\n",
    "st=input(\"Enter a number : \")\n",
    "h=int(st[0]+st[-1])\n",
    "s=int(st)\n",
    "if(s%h==0):\n",
    "    print(\"True\")\n",
    "else:\n",
    "    print(\"False\")"
   ]
  },
  {
   "cell_type": "code",
   "execution_count": 63,
   "metadata": {},
   "outputs": [
    {
     "name": "stdout",
     "output_type": "stream",
     "text": [
      "False\n"
     ]
    }
   ],
   "source": [
    "#sudoku\n",
    "#taking sample input\n",
    "sod=[[3,5,2,9,1,8,6,7,4],\n",
    "     [8,9,7,2,4,6,5,1,3],\n",
    "     [6,4,1,7,5,3,2,8,9],\n",
    "     [7,8,3,4,6,9,4,2,1],\n",
    "     [9,2,6,1,3,4,7,5,8],\n",
    "     [4,1,5,8,2,7,9,3,6],\n",
    "     [1,6,4,3,7,5,8,9,2],\n",
    "     [2,7,8,4,9,1,3,6,5],\n",
    "     [5,3,9,6,8,2,1,4,7]]\n",
    "fg=0\n",
    "lis=[]\n",
    "for i in range(0,9):\n",
    "    for j in range(0,9):\n",
    "        h=sod[j][i]\n",
    "        if(h in lis):\n",
    "            fg+=1\n",
    "            break\n",
    "        else:\n",
    "            lis.append(h)\n",
    "    if(fg==1):\n",
    "        print(\"False\")\n",
    "        break\n",
    "    else:\n",
    "        lis=[]\n",
    "if(fg==0):\n",
    "    print(\"True\")"
   ]
  },
  {
   "cell_type": "code",
   "execution_count": null,
   "metadata": {},
   "outputs": [],
   "source": []
  }
 ],
 "metadata": {
  "kernelspec": {
   "display_name": "Python 3",
   "language": "python",
   "name": "python3"
  },
  "language_info": {
   "codemirror_mode": {
    "name": "ipython",
    "version": 3
   },
   "file_extension": ".py",
   "mimetype": "text/x-python",
   "name": "python",
   "nbconvert_exporter": "python",
   "pygments_lexer": "ipython3",
   "version": "3.7.4"
  }
 },
 "nbformat": 4,
 "nbformat_minor": 2
}
