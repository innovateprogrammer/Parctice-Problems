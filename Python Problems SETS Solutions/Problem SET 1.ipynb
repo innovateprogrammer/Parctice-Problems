{
 "cells": [
  {
   "cell_type": "code",
   "execution_count": 2,
   "metadata": {},
   "outputs": [
    {
     "name": "stdout",
     "output_type": "stream",
     "text": [
      "Enter your Youtube URL linkhttps://www.youtube.com/watch?=RRWUavSwvU\n",
      "RRWUavSwvU\n"
     ]
    }
   ],
   "source": [
    "#youtube link url\n",
    "link=input(\"Enter your Youtube URL link\")\n",
    "st=\"\"\n",
    "c=0\n",
    "for i in link:\n",
    "    if(i==\"=\"):\n",
    "        c=c+1\n",
    "        continue\n",
    "    if(c!=0):\n",
    "        st+=i\n",
    "print(st)"
   ]
  },
  {
   "cell_type": "code",
   "execution_count": 3,
   "metadata": {},
   "outputs": [
    {
     "name": "stdout",
     "output_type": "stream",
     "text": [
      "Enter the number of hovercraft sold this month5\n",
      "Loss\n"
     ]
    }
   ],
   "source": [
    "#hovercraft\n",
    "cp=2000000\n",
    "sp=3000000\n",
    "ta=1000000\n",
    "\n",
    "man=10*cp+ta\n",
    "n=int(input(\"Enter the number of hovercraft sold this month\"))\n",
    "gp=n*sp\n",
    "if(gp>man):\n",
    "    print(\"Profit\")\n",
    "elif(gp==man):\n",
    "    print(\"Broke Even\")\n",
    "else:\n",
    "    print(\"Loss\")"
   ]
  },
  {
   "cell_type": "code",
   "execution_count": 6,
   "metadata": {},
   "outputs": [
    {
     "name": "stdout",
     "output_type": "stream",
     "text": [
      "Enter the phraseI need 2 pumpkis and 3 apples\n",
      "I need two pumpkis and three apples\n"
     ]
    }
   ],
   "source": [
    "#no numerals\n",
    "nume={\"1\":\"one\",\"2\":\"two\",\"3\":\"three\",\"4\":\"four\",\"5\":\"five\",\"6\":\"six\",\"7\":\"seven\",\"8\":\"eight\",\"9\":\"nine\",\"0\":\"zero\"}\n",
    "st1=input(\"Enter the phrase : \")\n",
    "st2=\"\"\n",
    "for i in st1:\n",
    "    if(i.isdigit()==True):\n",
    "        st2+=nume[i]\n",
    "    else:\n",
    "        st2+=i\n",
    "print(st2)"
   ]
  },
  {
   "cell_type": "code",
   "execution_count": 10,
   "metadata": {},
   "outputs": [
    {
     "name": "stdout",
     "output_type": "stream",
     "text": [
      "Enter time in 12hr format : 6:45 PM\n",
      "18:45 PM\n"
     ]
    }
   ],
   "source": [
    "#military time\n",
    "time=input(\"Enter time in 12hr format : \")\n",
    "if \"AM\" in time:\n",
    "    print(time)\n",
    "else:\n",
    "    f=\"\"\n",
    "    g=0\n",
    "    for j in time:\n",
    "        if(j==\":\"):\n",
    "            g=int(f)\n",
    "            g=g+12\n",
    "            f=str(g)\n",
    "        f+=j\n",
    "    print(f)"
   ]
  },
  {
   "cell_type": "code",
   "execution_count": 16,
   "metadata": {},
   "outputs": [
    {
     "name": "stdout",
     "output_type": "stream",
     "text": [
      "Enter date in US format7/26/2019\n",
      "26/7/2019\n"
     ]
    }
   ],
   "source": [
    "#Convert US date to EU date\n",
    "d1=input(\"Enter date in US format\")\n",
    "l=[]\n",
    "t=\"\"\n",
    "for i in d1:\n",
    "    if(i==\"/\"):\n",
    "        l.append(t)\n",
    "        t=\"\"\n",
    "    else:\n",
    "        t+=i\n",
    "else:\n",
    "    l.append(t)\n",
    "print(l[1]+\"/\"+l[0]+\"/\"+l[2])"
   ]
  },
  {
   "cell_type": "code",
   "execution_count": 18,
   "metadata": {},
   "outputs": [
    {
     "name": "stdout",
     "output_type": "stream",
     "text": [
      "Enter the no.of terms9\n",
      "Enter  9  nnumbers\n",
      "1\n",
      "2\n",
      "3\n",
      "4\n",
      "5\n",
      "6\n",
      "7\n",
      "8\n",
      "9\n",
      "Sum  :  20\n"
     ]
    }
   ],
   "source": [
    "#sum of even integers\n",
    "n=int(input(\"Enter the no.of terms\"))\n",
    "print(\"Enter \",n,\" nnumbers\")\n",
    "l=[]\n",
    "s=0\n",
    "for i in range(0,n):\n",
    "    l.append(int(input()))\n",
    "for j in l:\n",
    "    if(j%2==0):\n",
    "        s+=j\n",
    "print(\"Sum  : \",s)"
   ]
  },
  {
   "cell_type": "code",
   "execution_count": 24,
   "metadata": {},
   "outputs": [
    {
     "name": "stdout",
     "output_type": "stream",
     "text": [
      "Enter your sentence  :  nevermind youve got them\n",
      "evermindnay ouveyay otgay hemtay \n"
     ]
    }
   ],
   "source": [
    "#piglatin\n",
    "def pig(s):\n",
    "    ch=s[0]\n",
    "    s=s[1:]\n",
    "    s=s+ch+\"ay\"\n",
    "    return s\n",
    "ste=input(\"Enter your sentence  :  \")\n",
    "st2=\"\"\n",
    "st3=\"\"\n",
    "for i in ste:\n",
    "    if(i==\" \"):\n",
    "        st3=st3+pig(st2)+\" \"\n",
    "        st2=\"\"\n",
    "    else:\n",
    "        st2+=i\n",
    "else:\n",
    "    st3=st3+pig(st2)+\" \"\n",
    "print(st3)"
   ]
  },
  {
   "cell_type": "code",
   "execution_count": 34,
   "metadata": {},
   "outputs": [
    {
     "name": "stdout",
     "output_type": "stream",
     "text": [
      "Enter the security patternxxxxxxTxxxxxGxxxx$\n",
      "quiet\n"
     ]
    }
   ],
   "source": [
    "#Security\n",
    "d=input(\"Enter the security pattern\")\n",
    "c=0\n",
    "for i in d:\n",
    "    if(i==\"$\" or i==\"T\"):\n",
    "        if(c==1):\n",
    "            print(\"ALARM\")\n",
    "            c=0\n",
    "            break\n",
    "        else:\n",
    "            c=c+1\n",
    "    elif(i==\"G\"):\n",
    "        if(c==1):\n",
    "            c=0\n",
    "    else:\n",
    "        continue\n",
    "if(c==1):\n",
    "    print(\"quiet\")"
   ]
  },
  {
   "cell_type": "code",
   "execution_count": 36,
   "metadata": {},
   "outputs": [
    {
     "name": "stdout",
     "output_type": "stream",
     "text": [
      "Enter your wordhowdy\n",
      "ydwoh\n"
     ]
    }
   ],
   "source": [
    "#extra terrestrials\n",
    "s=input(\"Enter your word\")\n",
    "s1=\"\"\n",
    "for g in range(len(s)-1,-1,-1):\n",
    "    s1+=s[g]\n",
    "print(s1)"
   ]
  },
  {
   "cell_type": "code",
   "execution_count": 45,
   "metadata": {},
   "outputs": [
    {
     "name": "stdout",
     "output_type": "stream",
     "text": [
      "aditya\n",
      "Deja Vu\n"
     ]
    }
   ],
   "source": [
    "#Deja Vu\n",
    "f=input()\n",
    "flag=0\n",
    "for i in range(0,len(f)):\n",
    "    for j in range(i+1,len(f)):\n",
    "        ch=f[i]\n",
    "        if(ch==f[j]):\n",
    "            flag+=1\n",
    "    if(flag==1):\n",
    "        break\n",
    "if(flag==1):\n",
    "    print(\"Deja Vu\")\n",
    "else:\n",
    "    print(\"Unique\")"
   ]
  },
  {
   "cell_type": "code",
   "execution_count": null,
   "metadata": {},
   "outputs": [],
   "source": []
  }
 ],
 "metadata": {
  "kernelspec": {
   "display_name": "Python 3",
   "language": "python",
   "name": "python3"
  },
  "language_info": {
   "codemirror_mode": {
    "name": "ipython",
    "version": 3
   },
   "file_extension": ".py",
   "mimetype": "text/x-python",
   "name": "python",
   "nbconvert_exporter": "python",
   "pygments_lexer": "ipython3",
   "version": "3.7.4"
  }
 },
 "nbformat": 4,
 "nbformat_minor": 2
}
