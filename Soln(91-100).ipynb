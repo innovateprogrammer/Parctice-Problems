{
 "cells": [
  {
   "cell_type": "code",
   "execution_count": 1,
   "metadata": {},
   "outputs": [
    {
     "name": "stdout",
     "output_type": "stream",
     "text": [
      "2\n"
     ]
    }
   ],
   "source": [
    "#pp91\n",
    "l=[3,0,1]\n",
    "l.sort()\n",
    "for i in range(0,len(l)):\n",
    "    if(l[i+1]!=l[i]+1):\n",
    "        print(l[i]+1)\n",
    "        break\n"
   ]
  },
  {
   "cell_type": "code",
   "execution_count": 6,
   "metadata": {},
   "outputs": [
    {
     "name": "stdout",
     "output_type": "stream",
     "text": [
      "['a', 'a', 'b', 'aa', 'b']\n"
     ]
    }
   ],
   "source": [
    "#pp92\n",
    "def is_palindrome(st):\n",
    "    s=\"\"\n",
    "    for j in range(len(st)-1,-1,-1):\n",
    "            s+=st[j]\n",
    "    if(s==st):\n",
    "        return True\n",
    "    else:\n",
    "        return False\n",
    "s1=\"aab\"\n",
    "l=[]\n",
    "for i in range(0,len(s1)):\n",
    "    l.append(s1[i])\n",
    "    st1=s1[:i]\n",
    "    st2=s1[i:]\n",
    "    if(is_palindrome(st1)==True and is_palindrome(st2)==True):\n",
    "        l.append(st1)\n",
    "        l.append(st2)\n",
    "print(l)\n",
    "        "
   ]
  },
  {
   "cell_type": "code",
   "execution_count": 12,
   "metadata": {},
   "outputs": [
    {
     "name": "stdout",
     "output_type": "stream",
     "text": [
      "2\n"
     ]
    }
   ],
   "source": [
    "#pp93\n",
    "arr=[2,2,1,1,1,2,2]\n",
    "n=len(arr)\n",
    "c=0\n",
    "l1=[]\n",
    "for i in arr:\n",
    "    for j in arr:\n",
    "        if(i==j):\n",
    "            c+=1\n",
    "    if(c>(n/2)):\n",
    "        if i not in l1:\n",
    "            l1.append(i)\n",
    "            print(i)\n",
    "    c=0"
   ]
  },
  {
   "cell_type": "code",
   "execution_count": 17,
   "metadata": {},
   "outputs": [
    {
     "name": "stdout",
     "output_type": "stream",
     "text": [
      "3\n"
     ]
    }
   ],
   "source": [
    "#pp94\n",
    "arr1=[3,1,3,4,2]\n",
    "n=len(arr1)\n",
    "c=0\n",
    "for i in range(1,n):\n",
    "    for j in arr1:\n",
    "        if(i==j):\n",
    "            c+=1\n",
    "    if(c>1):\n",
    "        print(i)\n",
    "    c=0"
   ]
  },
  {
   "cell_type": "code",
   "execution_count": 19,
   "metadata": {},
   "outputs": [
    {
     "name": "stdout",
     "output_type": "stream",
     "text": [
      "[0, 1, 9, 16, 100]\n"
     ]
    }
   ],
   "source": [
    "#pp95\n",
    "ar2=[]\n",
    "ar1=[-4,-1,0,3,10]  #non descending\n",
    "for i in ar1:\n",
    "    ar2.append(i**2)\n",
    "ar2.sort()\n",
    "print(ar2)"
   ]
  },
  {
   "cell_type": "code",
   "execution_count": 20,
   "metadata": {},
   "outputs": [
    {
     "name": "stdout",
     "output_type": "stream",
     "text": [
      "Enter the valid IPv4 address : 1.1.1.1\n",
      "1[.]1[.]1[.]1\n"
     ]
    }
   ],
   "source": [
    "#pp96\n",
    "st=input(\"Enter the valid IPv4 address : \")\n",
    "st=st.replace(\".\",\"[.]\")\n",
    "print(st)"
   ]
  },
  {
   "cell_type": "code",
   "execution_count": 21,
   "metadata": {},
   "outputs": [
    {
     "name": "stdout",
     "output_type": "stream",
     "text": [
      "1\n"
     ]
    }
   ],
   "source": [
    "#pp97\n",
    "arr=[3,4,5,1,2] #assuming no duplicates\n",
    "print(min(arr))"
   ]
  },
  {
   "cell_type": "code",
   "execution_count": 24,
   "metadata": {},
   "outputs": [
    {
     "name": "stdout",
     "output_type": "stream",
     "text": [
      "[1, 2]\n"
     ]
    }
   ],
   "source": [
    "#pp98\n",
    "#example\n",
    "arr=[1,1,1,3,3,2,2,2]\n",
    "n=len(arr)\n",
    "c=0\n",
    "l1=[]\n",
    "for i in arr:\n",
    "    for j in arr:\n",
    "        if(i==j):\n",
    "            c+=1\n",
    "    if(c>(n/3)):\n",
    "        if i not in l1:\n",
    "            l1.append(i)\n",
    "    c=0\n",
    "print(l1)"
   ]
  },
  {
   "cell_type": "code",
   "execution_count": 27,
   "metadata": {},
   "outputs": [
    {
     "name": "stdout",
     "output_type": "stream",
     "text": [
      "False\n"
     ]
    }
   ],
   "source": [
    "#pp99\n",
    "#example\n",
    "ar=[4,2,1]\n",
    "d=0\n",
    "for i in range(0,len(ar)-1):\n",
    "    if(ar[i]>ar[i+1]):\n",
    "        d+=1\n",
    "if(d<=1):\n",
    "    print(\"True\")\n",
    "else:\n",
    "    print(\"False\")"
   ]
  },
  {
   "cell_type": "code",
   "execution_count": 4,
   "metadata": {},
   "outputs": [
    {
     "name": "stdout",
     "output_type": "stream",
     "text": [
      "Enter number : 10\n",
      "1\n",
      "2\n",
      "3\n",
      "4\n",
      "5\n",
      "6\n",
      "8\n",
      "9\n",
      "10\n",
      "12\n"
     ]
    }
   ],
   "source": [
    "#pp100\n",
    "def is_ugly(h):\n",
    "    test=[1,2,3,5]\n",
    "    if(h in test):\n",
    "        return True\n",
    "    c=0\n",
    "    for a in range(2,h):\n",
    "        if(h%a==0 and a in test):\n",
    "                c+=1\n",
    "    \n",
    "    if(c==0):\n",
    "        return False\n",
    "    else:\n",
    "        return True\n",
    "    \n",
    "i=j=1\n",
    "n=int(input(\"Enter number : \"))\n",
    "while(i<=10):\n",
    "    if(is_ugly(j)==True):\n",
    "        print(j)\n",
    "        i+=1\n",
    "    j+=1\n",
    "    \n",
    "\n"
   ]
  },
  {
   "cell_type": "code",
   "execution_count": null,
   "metadata": {},
   "outputs": [],
   "source": []
  }
 ],
 "metadata": {
  "kernelspec": {
   "display_name": "Python 3",
   "language": "python",
   "name": "python3"
  },
  "language_info": {
   "codemirror_mode": {
    "name": "ipython",
    "version": 3
   },
   "file_extension": ".py",
   "mimetype": "text/x-python",
   "name": "python",
   "nbconvert_exporter": "python",
   "pygments_lexer": "ipython3",
   "version": "3.7.4"
  }
 },
 "nbformat": 4,
 "nbformat_minor": 2
}
